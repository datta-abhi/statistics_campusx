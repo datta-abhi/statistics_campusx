{
 "cells": [
  {
   "cell_type": "code",
   "execution_count": 1,
   "id": "240a0f4a",
   "metadata": {},
   "outputs": [],
   "source": [
    "import numpy as np\n",
    "import pandas as pd\n",
    "import seaborn as sns\n",
    "import matplotlib.pyplot as plt"
   ]
  },
  {
   "cell_type": "code",
   "execution_count": 2,
   "id": "c98622a2",
   "metadata": {},
   "outputs": [],
   "source": [
    "%matplotlib inline"
   ]
  },
  {
   "cell_type": "markdown",
   "id": "5b063664",
   "metadata": {},
   "source": [
    "## Import Titanic dataset"
   ]
  },
  {
   "cell_type": "code",
   "execution_count": 3,
   "id": "597464b8",
   "metadata": {},
   "outputs": [
    {
     "data": {
      "text/html": [
       "<div>\n",
       "<style scoped>\n",
       "    .dataframe tbody tr th:only-of-type {\n",
       "        vertical-align: middle;\n",
       "    }\n",
       "\n",
       "    .dataframe tbody tr th {\n",
       "        vertical-align: top;\n",
       "    }\n",
       "\n",
       "    .dataframe thead th {\n",
       "        text-align: right;\n",
       "    }\n",
       "</style>\n",
       "<table border=\"1\" class=\"dataframe\">\n",
       "  <thead>\n",
       "    <tr style=\"text-align: right;\">\n",
       "      <th></th>\n",
       "      <th>PassengerId</th>\n",
       "      <th>Survived</th>\n",
       "      <th>Pclass</th>\n",
       "      <th>Name</th>\n",
       "      <th>Sex</th>\n",
       "      <th>Age</th>\n",
       "      <th>SibSp</th>\n",
       "      <th>Parch</th>\n",
       "      <th>Ticket</th>\n",
       "      <th>Fare</th>\n",
       "      <th>Cabin</th>\n",
       "      <th>Embarked</th>\n",
       "    </tr>\n",
       "  </thead>\n",
       "  <tbody>\n",
       "    <tr>\n",
       "      <th>0</th>\n",
       "      <td>1</td>\n",
       "      <td>0</td>\n",
       "      <td>3</td>\n",
       "      <td>Braund, Mr. Owen Harris</td>\n",
       "      <td>male</td>\n",
       "      <td>22.0</td>\n",
       "      <td>1</td>\n",
       "      <td>0</td>\n",
       "      <td>A/5 21171</td>\n",
       "      <td>7.2500</td>\n",
       "      <td>NaN</td>\n",
       "      <td>S</td>\n",
       "    </tr>\n",
       "    <tr>\n",
       "      <th>1</th>\n",
       "      <td>2</td>\n",
       "      <td>1</td>\n",
       "      <td>1</td>\n",
       "      <td>Cumings, Mrs. John Bradley (Florence Briggs Th...</td>\n",
       "      <td>female</td>\n",
       "      <td>38.0</td>\n",
       "      <td>1</td>\n",
       "      <td>0</td>\n",
       "      <td>PC 17599</td>\n",
       "      <td>71.2833</td>\n",
       "      <td>C85</td>\n",
       "      <td>C</td>\n",
       "    </tr>\n",
       "  </tbody>\n",
       "</table>\n",
       "</div>"
      ],
      "text/plain": [
       "   PassengerId  Survived  Pclass  \\\n",
       "0            1         0       3   \n",
       "1            2         1       1   \n",
       "\n",
       "                                                Name     Sex   Age  SibSp  \\\n",
       "0                            Braund, Mr. Owen Harris    male  22.0      1   \n",
       "1  Cumings, Mrs. John Bradley (Florence Briggs Th...  female  38.0      1   \n",
       "\n",
       "   Parch     Ticket     Fare Cabin Embarked  \n",
       "0      0  A/5 21171   7.2500   NaN        S  \n",
       "1      0   PC 17599  71.2833   C85        C  "
      ]
     },
     "execution_count": 3,
     "metadata": {},
     "output_type": "execute_result"
    }
   ],
   "source": [
    "titanic = pd.read_csv('data/titanic.csv')\n",
    "titanic.head(2)"
   ]
  },
  {
   "cell_type": "code",
   "execution_count": 4,
   "id": "870aa87d",
   "metadata": {},
   "outputs": [
    {
     "name": "stdout",
     "output_type": "stream",
     "text": [
      "<class 'pandas.core.frame.DataFrame'>\n",
      "RangeIndex: 891 entries, 0 to 890\n",
      "Data columns (total 12 columns):\n",
      " #   Column       Non-Null Count  Dtype  \n",
      "---  ------       --------------  -----  \n",
      " 0   PassengerId  891 non-null    int64  \n",
      " 1   Survived     891 non-null    int64  \n",
      " 2   Pclass       891 non-null    int64  \n",
      " 3   Name         891 non-null    object \n",
      " 4   Sex          891 non-null    object \n",
      " 5   Age          714 non-null    float64\n",
      " 6   SibSp        891 non-null    int64  \n",
      " 7   Parch        891 non-null    int64  \n",
      " 8   Ticket       891 non-null    object \n",
      " 9   Fare         891 non-null    float64\n",
      " 10  Cabin        204 non-null    object \n",
      " 11  Embarked     889 non-null    object \n",
      "dtypes: float64(2), int64(5), object(5)\n",
      "memory usage: 83.7+ KB\n"
     ]
    }
   ],
   "source": [
    "titanic.info()"
   ]
  },
  {
   "cell_type": "markdown",
   "id": "417e9bfb",
   "metadata": {},
   "source": [
    "## We hypothesize that mean age of population is less than 35"
   ]
  },
  {
   "cell_type": "markdown",
   "id": "3aefd400",
   "metadata": {},
   "source": [
    "### H0: pop_mean = 35  \n",
    "### Ha: pop_mean <35"
   ]
  },
  {
   "cell_type": "markdown",
   "id": "6554adba",
   "metadata": {},
   "source": [
    "## Lets take sample of 50 random people and do our study on them"
   ]
  },
  {
   "cell_type": "code",
   "execution_count": 5,
   "id": "ab28f6cb",
   "metadata": {},
   "outputs": [
    {
     "name": "stdout",
     "output_type": "stream",
     "text": [
      "[32.  25.  29.   1.  20.  35.  28.  29.   7.  33.  21.   4.  31.   9.\n",
      " 26.  17.  48.  28.   6.  35.  26.  32.5 24.  44.  32.  28.  28.  38.\n",
      " 51.  28.  37.  38.  22.  51.  18.  52.  34.  44.  27.  35.  26.  31.\n",
      "  1.  20.  24.  65.   2.  36.  19.  40. ]\n"
     ]
    }
   ],
   "source": [
    "sample_age = titanic['Age'].dropna()\n",
    "sample_age = sample_age.sample(50,replace=False).values\n",
    "print(sample_age)"
   ]
  },
  {
   "cell_type": "code",
   "execution_count": 6,
   "id": "5c42936d",
   "metadata": {},
   "outputs": [
    {
     "name": "stdout",
     "output_type": "stream",
     "text": [
      "28.35\n",
      "13.596414968659937\n"
     ]
    }
   ],
   "source": [
    "sample_mean = sample_age.mean()\n",
    "sample_sd = sample_age.std()\n",
    "print(sample_mean)\n",
    "print(sample_sd)"
   ]
  },
  {
   "cell_type": "markdown",
   "id": "4ea0a1dc",
   "metadata": {},
   "source": [
    "## Testing for Normality using Shapiro_Wilk Test"
   ]
  },
  {
   "cell_type": "code",
   "execution_count": 7,
   "id": "c80d0441",
   "metadata": {},
   "outputs": [],
   "source": [
    "import scipy.stats as ss"
   ]
  },
  {
   "cell_type": "code",
   "execution_count": 8,
   "id": "bc241ef3",
   "metadata": {},
   "outputs": [
    {
     "name": "stdout",
     "output_type": "stream",
     "text": [
      "0.9683891534805298\n",
      "0.1988806575536728\n",
      "Normal distribution\n"
     ]
    },
    {
     "data": {
      "image/png": "[encoded data removed]",
      "text/plain": [
       "<Figure size 400x300 with 1 Axes>"
      ]
     },
     "metadata": {},
     "output_type": "display_data"
    }
   ],
   "source": [
    "shapiro_stat,shapiro_p = ss.shapiro(sample_age)\n",
    "print(shapiro_stat)\n",
    "print(shapiro_p)\n",
    "\n",
    "if shapiro_p > 0.05:\n",
    "    print('Normal distribution')\n",
    "else:\n",
    "    print('Not a Normal distribution')\n",
    "\n",
    "plt.figure(figsize=(4,3))\n",
    "sns.kdeplot(sample_age)\n",
    "plt.show()"
   ]
  },
  {
   "cell_type": "markdown",
   "id": "39bf365b",
   "metadata": {},
   "source": [
    "So, for our set of 50 random persons, the age follows a Normal Distribution.  \n",
    "Hence, we can apply T-Test for testing our hypothesis."
   ]
  },
  {
   "cell_type": "markdown",
   "id": "f6cdb19b",
   "metadata": {},
   "source": [
    "## T-Test"
   ]
  },
  {
   "cell_type": "code",
   "execution_count": 9,
   "id": "a08c9933",
   "metadata": {},
   "outputs": [
    {
     "name": "stdout",
     "output_type": "stream",
     "text": [
      "-3.423696622035945\n",
      "0.0006284452915185583\n",
      "Reject The Null\n"
     ]
    }
   ],
   "source": [
    "hypothesis_mean = 35\n",
    "significance_level = .05\n",
    "\n",
    "t_val, p_val = ss.ttest_1samp(sample_age,hypothesis_mean,alternative= 'less')\n",
    "print(t_val)\n",
    "print(p_val)\n",
    "\n",
    "if p_val > 0.05:\n",
    "    print('Do not Reject Null')\n",
    "else:\n",
    "    print('Reject The Null')"
   ]
  },
  {
   "cell_type": "code",
   "execution_count": 10,
   "id": "11370575",
   "metadata": {},
   "outputs": [
    {
     "data": {
      "text/plain": [
       "29.69911764705882"
      ]
     },
     "execution_count": 10,
     "metadata": {},
     "output_type": "execute_result"
    }
   ],
   "source": [
    "titanic['Age'].dropna().mean()"
   ]
  },
  {
   "cell_type": "markdown",
   "id": "dfacec25",
   "metadata": {},
   "source": [
    "## Lets take the sample where ages are greater than equal to 33 and Check what happens"
   ]
  },
  {
   "cell_type": "code",
   "execution_count": 23,
   "id": "eb8fbc46",
   "metadata": {},
   "outputs": [
    {
     "name": "stdout",
     "output_type": "stream",
     "text": [
      "Population Mean:  43.00666666666667\n",
      "[49.  45.  47.  38.  58.  34.  50.  57.  35.  45.  36.  34.  45.  48.\n",
      " 42.  36.  47.  36.  35.  40.  34.  45.  40.5 45.  45.  41.  53.  45.\n",
      " 37.  36.  37.  40.  34.  39.  43.  40.  35.  45.  43.  42.  59.  39.\n",
      " 40.  35.  38.  40.  35.  50.  47.  44. ]\n"
     ]
    }
   ],
   "source": [
    "sample_age_high = titanic['Age'].dropna()\n",
    "sample_age_high = sample_age_high[(sample_age_high>33) & (sample_age_high<60)]\n",
    "print('Population Mean: ',sample_age_high.mean())\n",
    "sample_age_high = sample_age_high.sample(50,replace=False).values\n",
    "print(sample_age_high)"
   ]
  },
  {
   "cell_type": "code",
   "execution_count": 24,
   "id": "6e3b371d",
   "metadata": {},
   "outputs": [
    {
     "name": "stdout",
     "output_type": "stream",
     "text": [
      "0.9227975010871887\n",
      "0.002980493940412998\n",
      "Not a Normal distribution\n"
     ]
    },
    {
     "data": {
      "image/png": "[encoded data removed]",
      "text/plain": [
       "<Figure size 400x300 with 1 Axes>"
      ]
     },
     "metadata": {},
     "output_type": "display_data"
    }
   ],
   "source": [
    "shapiro_stat,shapiro_p = ss.shapiro(sample_age_high)\n",
    "print(shapiro_stat)\n",
    "print(shapiro_p)\n",
    "\n",
    "if shapiro_p > 0.05:\n",
    "    print('Normal distribution')\n",
    "else:\n",
    "    print('Not a Normal distribution')\n",
    "\n",
    "plt.figure(figsize=(4,3))\n",
    "sns.kdeplot(sample_age_high)\n",
    "plt.show()"
   ]
  },
  {
   "cell_type": "code",
   "execution_count": 25,
   "id": "2f9f9519",
   "metadata": {},
   "outputs": [
    {
     "name": "stdout",
     "output_type": "stream",
     "text": [
      "7.7765936439224195\n",
      "0.999999999789933\n",
      "Do not Reject Null\n"
     ]
    }
   ],
   "source": [
    "hypothesis_mean = 35\n",
    "significance_level = .05\n",
    "\n",
    "t_val, p_val = ss.ttest_1samp(sample_age_high,hypothesis_mean,alternative= 'less')\n",
    "print(t_val)\n",
    "print(p_val)\n",
    "\n",
    "if p_val > 0.05:\n",
    "    print('Do not Reject Null')\n",
    "else:\n",
    "    print('Reject The Null')"
   ]
  },
  {
   "cell_type": "markdown",
   "id": "873c503f",
   "metadata": {},
   "source": [
    "## Independent 2 sample T-Test"
   ]
  },
  {
   "cell_type": "markdown",
   "id": "00809f04",
   "metadata": {},
   "source": [
    "### Case Study: Mobile vs desktop user engagement"
   ]
  },
  {
   "cell_type": "markdown",
   "id": "99dd8281",
   "metadata": {},
   "source": [
    "H0: mean_d = mean_m  \n",
    "H1: mean_d != mean_m"
   ]
  },
  {
   "cell_type": "code",
   "execution_count": 26,
   "id": "6d65c4a6",
   "metadata": {},
   "outputs": [],
   "source": [
    "# Data:\n",
    "nd = 30\n",
    "xbar_d = 18.5\n",
    "sd_d = 3.5\n",
    "\n",
    "nm = 30\n",
    "xbar_m = 14.3\n",
    "sd_m = 2.7"
   ]
  },
  {
   "cell_type": "code",
   "execution_count": 27,
   "id": "6b61f93f",
   "metadata": {},
   "outputs": [],
   "source": [
    "# Input the data as lists\n",
    "desktop_users = [12, 15, 18, 16, 20, 17, 14, 22, 19, 21, 23, 18, 25, 17, 16, 24, 20, 19, 22, 18, 15, 14, 23, 16, 12, 21, 19, 17, 20, 14]\n",
    "mobile_users = [10, 12, 14, 13, 16, 15, 11, 17, 14, 16, 18, 14, 20, 15, 14, 19, 16, 15, 17, 14, 12, 11, 18, 15, 10, 16, 15, 13, 16, 11]"
   ]
  },
  {
   "cell_type": "code",
   "execution_count": 28,
   "id": "a8a28da9",
   "metadata": {},
   "outputs": [
    {
     "data": {
      "text/plain": [
       "18.233333333333334"
      ]
     },
     "execution_count": 28,
     "metadata": {},
     "output_type": "execute_result"
    }
   ],
   "source": [
    "np.mean(desktop_users)"
   ]
  },
  {
   "cell_type": "markdown",
   "id": "105d448d",
   "metadata": {},
   "source": [
    "### Check for normality for both group using Shapiro_wilk test"
   ]
  },
  {
   "cell_type": "code",
   "execution_count": 29,
   "id": "fda56ad6",
   "metadata": {},
   "outputs": [],
   "source": [
    "import scipy.stats as ss"
   ]
  },
  {
   "cell_type": "code",
   "execution_count": 30,
   "id": "c2532be4",
   "metadata": {},
   "outputs": [
    {
     "name": "stdout",
     "output_type": "stream",
     "text": [
      "Desktop group: ShapiroResult(statistic=0.9783114194869995, pvalue=0.7790969014167786)\n",
      "Mobile group: ShapiroResult(statistic=0.9714356064796448, pvalue=0.5791608691215515)\n"
     ]
    }
   ],
   "source": [
    "print('Desktop group:',ss.shapiro(desktop_users))\n",
    "print('Mobile group:',ss.shapiro(mobile_users))\n"
   ]
  },
  {
   "cell_type": "markdown",
   "id": "f669a3ac",
   "metadata": {},
   "source": [
    "So both groups are following normal distribution"
   ]
  },
  {
   "cell_type": "markdown",
   "id": "06100f2a",
   "metadata": {},
   "source": [
    "## F Test to check Variance Equality"
   ]
  },
  {
   "cell_type": "code",
   "execution_count": 31,
   "id": "4eecd9d9",
   "metadata": {},
   "outputs": [
    {
     "name": "stdout",
     "output_type": "stream",
     "text": [
      "0.0598638497708453\n"
     ]
    }
   ],
   "source": [
    "F = np.var(desktop_users)/ np.var(mobile_users)\n",
    "df_desktop = len(desktop_users) - 1\n",
    "df_mobile = len(mobile_users) - 1\n",
    "\n",
    "p_value = ss.f.sf(F,df_desktop,df_mobile)\n",
    "print(p_value)"
   ]
  },
  {
   "cell_type": "markdown",
   "id": "f8bbe089",
   "metadata": {},
   "source": [
    "Since, pval >.05, variance of both groups are equal"
   ]
  },
  {
   "cell_type": "code",
   "execution_count": 32,
   "id": "d5e3a1d3",
   "metadata": {},
   "outputs": [
    {
     "name": "stdout",
     "output_type": "stream",
     "text": [
      "5.204124024053206\n",
      "2.6703125767491756e-06\n"
     ]
    }
   ],
   "source": [
    "t_2sample = (xbar_d - xbar_m)/np.sqrt((sd_d*sd_d/nd)+(sd_m*sd_m/nm))\n",
    "print(t_2sample)\n",
    "\n",
    "dof = nd+nm-2\n",
    "cdf = 2*ss.t.cdf(-t_2sample,dof) \n",
    "# negative taken since we are taken cumulative cdf for both ends\n",
    "print(cdf)"
   ]
  },
  {
   "cell_type": "markdown",
   "id": "61405319",
   "metadata": {},
   "source": [
    "So, we can Reject the Null Hypothesis"
   ]
  },
  {
   "cell_type": "markdown",
   "id": "db54a858",
   "metadata": {},
   "source": [
    "## Independent 2 sample Test for male and female population in Titanic"
   ]
  },
  {
   "cell_type": "markdown",
   "id": "a2dae351",
   "metadata": {},
   "source": [
    "H0: Male and female age are similar  \n",
    "H1: Male and Female ages are not similar"
   ]
  },
  {
   "cell_type": "code",
   "execution_count": 50,
   "id": "1ce4f4c4",
   "metadata": {},
   "outputs": [],
   "source": [
    "alpha = 0.05 # level of significance"
   ]
  },
  {
   "cell_type": "code",
   "execution_count": 37,
   "id": "bd89a2f9",
   "metadata": {},
   "outputs": [
    {
     "name": "stderr",
     "output_type": "stream",
     "text": [
      "C:\\Users\\abhid\\AppData\\Local\\Temp\\ipykernel_11272\\4039389626.py:1: FutureWarning: The default value of numeric_only in DataFrameGroupBy.mean is deprecated. In a future version, numeric_only will default to False. Either specify numeric_only or select only columns which should be valid for the function.\n",
      "  titanic.groupby('Sex').mean()['Age']\n"
     ]
    },
    {
     "data": {
      "text/plain": [
       "Sex\n",
       "female    27.915709\n",
       "male      30.726645\n",
       "Name: Age, dtype: float64"
      ]
     },
     "execution_count": 37,
     "metadata": {},
     "output_type": "execute_result"
    }
   ],
   "source": [
    "titanic.groupby('Sex').mean()['Age']"
   ]
  },
  {
   "cell_type": "code",
   "execution_count": 53,
   "id": "a3fa9a3f",
   "metadata": {},
   "outputs": [],
   "source": [
    "male_sample = titanic[titanic['Sex']== 'male'].dropna(subset = 'Age').sample(50)\n",
    "female_sample = titanic[titanic['Sex']== 'female'].dropna(subset = 'Age').sample(50)"
   ]
  },
  {
   "cell_type": "markdown",
   "id": "bc211986",
   "metadata": {},
   "source": [
    "### Checking for Normality in both groups"
   ]
  },
  {
   "cell_type": "code",
   "execution_count": 54,
   "id": "d53a814b",
   "metadata": {},
   "outputs": [],
   "source": [
    "import scipy.stats as ss"
   ]
  },
  {
   "cell_type": "code",
   "execution_count": 55,
   "id": "0e070c72",
   "metadata": {},
   "outputs": [
    {
     "name": "stdout",
     "output_type": "stream",
     "text": [
      "0.38828304409980774\n",
      "0.10928235948085785\n"
     ]
    }
   ],
   "source": [
    "m_,male_p = ss.shapiro(male_sample['Age'])\n",
    "f_,female_p = ss.shapiro(female_sample['Age'])\n",
    "print(male_p)\n",
    "print(female_p)"
   ]
  },
  {
   "cell_type": "markdown",
   "id": "24601deb",
   "metadata": {},
   "source": [
    "So, both groups have normal distribution of ages here"
   ]
  },
  {
   "cell_type": "code",
   "execution_count": 56,
   "id": "41b52318",
   "metadata": {},
   "outputs": [],
   "source": [
    "male_sample = male_sample['Age'].values\n",
    "female_sample = female_sample['Age'].values"
   ]
  },
  {
   "cell_type": "markdown",
   "id": "645e491c",
   "metadata": {},
   "source": [
    "### F Test for checking Variance"
   ]
  },
  {
   "cell_type": "code",
   "execution_count": 58,
   "id": "a15bf1c7",
   "metadata": {},
   "outputs": [
    {
     "name": "stdout",
     "output_type": "stream",
     "text": [
      "0.4807998238080707\n"
     ]
    }
   ],
   "source": [
    "F = np.var(male_sample)/ np.var(female_sample)\n",
    "df_male = len(male_sample) - 1\n",
    "df_female = len(female_sample) - 1\n",
    "\n",
    "p_value = ss.f.sf(F,df_male,df_female)\n",
    "print(p_value)"
   ]
  },
  {
   "cell_type": "markdown",
   "id": "10c4af55",
   "metadata": {},
   "source": [
    "So, the variances are also not significantly different."
   ]
  },
  {
   "cell_type": "markdown",
   "id": "57cb07b8",
   "metadata": {},
   "source": [
    "## Apply T-Test"
   ]
  },
  {
   "cell_type": "code",
   "execution_count": 59,
   "id": "78d3dc06",
   "metadata": {},
   "outputs": [
    {
     "name": "stdout",
     "output_type": "stream",
     "text": [
      "1.0219667843364673\n",
      "0.3093127989009577\n",
      "Failed to reject the Null. Mean of both groups are similar\n"
     ]
    }
   ],
   "source": [
    "t_stat,p_val = ss.ttest_ind(male_sample,female_sample)\n",
    "print(t_stat)\n",
    "print(p_val)\n",
    "\n",
    "if p_val > 0.05:\n",
    "    print(\"Failed to reject the Null. Mean of both groups are similar\")\n",
    "else:\n",
    "    print(\"Reject the Null. Significant difference between Ages of Male and Female\")"
   ]
  },
  {
   "cell_type": "markdown",
   "id": "b24fc82f",
   "metadata": {},
   "source": [
    "## Paired 2 sample T-Test: Before and After Studies of same group"
   ]
  },
  {
   "cell_type": "code",
   "execution_count": 60,
   "id": "89755ea4",
   "metadata": {},
   "outputs": [],
   "source": [
    "before = np.array([80, 92, 75, 68, 85, 78, 73, 90, 70, 88, 76, 84, 82, 77, 91])\n",
    "after = np.array([78, 93, 81, 67, 88, 76, 74, 91, 69, 88, 77, 81, 80, 79, 88])\n",
    "\n",
    "diff = after - before"
   ]
  },
  {
   "cell_type": "code",
   "execution_count": 67,
   "id": "c5d912f7",
   "metadata": {},
   "outputs": [
    {
     "data": {
      "image/png": "[encoded data removed]",
      "text/plain": [
       "<Figure size 1200x400 with 3 Axes>"
      ]
     },
     "metadata": {},
     "output_type": "display_data"
    }
   ],
   "source": [
    "plt.figure(figsize = (12,4))\n",
    "\n",
    "plt.subplot(1,3,1)\n",
    "plt.hist(before,bins = 5)\n",
    "plt.title('Before')\n",
    "\n",
    "plt.subplot(1,3,2)\n",
    "plt.hist(after,bins = 5)\n",
    "plt.title('After')\n",
    "\n",
    "plt.subplot(1,3,3)\n",
    "plt.hist(diff,bins = 5)\n",
    "plt.title('after-before')\n",
    "\n",
    "plt.show()"
   ]
  },
  {
   "cell_type": "code",
   "execution_count": 68,
   "id": "41a93eef",
   "metadata": {},
   "outputs": [
    {
     "data": {
      "text/plain": [
       "ShapiroResult(statistic=0.9220570921897888, pvalue=0.20704729855060577)"
      ]
     },
     "execution_count": 68,
     "metadata": {},
     "output_type": "execute_result"
    }
   ],
   "source": [
    "ss.shapiro(diff)"
   ]
  },
  {
   "cell_type": "markdown",
   "id": "457dcec7",
   "metadata": {},
   "source": [
    "Since p>0.05, We can assume normality of difference."
   ]
  },
  {
   "cell_type": "code",
   "execution_count": 75,
   "id": "a964b1c5",
   "metadata": {},
   "outputs": [
    {
     "name": "stdout",
     "output_type": "stream",
     "text": [
      "0.10482848367219182\n",
      "0.9179989706285087\n"
     ]
    }
   ],
   "source": [
    "n = len(diff)\n",
    "dof = n-1\n",
    "\n",
    "mean_diff = np.mean(diff)\n",
    "sd_diff = np.std(diff,ddof=1)\n",
    "\n",
    "t_stat = mean_diff/(sd_diff/np.sqrt(n))\n",
    "print(t_stat)\n",
    "p = 2*ss.t.cdf(-t_stat,dof)\n",
    "print(p)"
   ]
  },
  {
   "cell_type": "markdown",
   "id": "fb5194c6",
   "metadata": {},
   "source": [
    "### Hence we can say that there is no signifant change before and after the intervention"
   ]
  },
  {
   "cell_type": "code",
   "execution_count": null,
   "id": "93dc27b4",
   "metadata": {},
   "outputs": [],
   "source": []
  }
 ],
 "metadata": {
  "kernelspec": {
   "display_name": "Python 3 (ipykernel)",
   "language": "python",
   "name": "python3"
  },
  "language_info": {
   "codemirror_mode": {
    "name": "ipython",
    "version": 3
   },
   "file_extension": ".py",
   "mimetype": "text/x-python",
   "name": "python",
   "nbconvert_exporter": "python",
   "pygments_lexer": "ipython3",
   "version": "3.11.4"
  }
 },
 "nbformat": 4,
 "nbformat_minor": 5
}
