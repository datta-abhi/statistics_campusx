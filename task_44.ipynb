{
 "cells": [
  {
   "cell_type": "code",
   "execution_count": 1,
   "metadata": {
    "id": "XgzoYlFVitRx"
   },
   "outputs": [],
   "source": [
    "import numpy as np\n",
    "import pandas as pd\n",
    "import matplotlib.pyplot as plt\n",
    "import seaborn as sns"
   ]
  },
  {
   "cell_type": "code",
   "execution_count": 2,
   "metadata": {},
   "outputs": [],
   "source": [
    "%matplotlib inline"
   ]
  },
  {
   "cell_type": "code",
   "execution_count": 15,
   "metadata": {},
   "outputs": [
    {
     "data": {
      "text/plain": [
       "0.31511999999999996"
      ]
     },
     "execution_count": 15,
     "metadata": {},
     "output_type": "execute_result"
    }
   ],
   "source": [
    "2.626*1.2/10"
   ]
  },
  {
   "cell_type": "code",
   "execution_count": 16,
   "metadata": {},
   "outputs": [
    {
     "name": "stdout",
     "output_type": "stream",
     "text": [
      "4.185\n",
      "4.815\n"
     ]
    }
   ],
   "source": [
    "a = 4.5 - .315\n",
    "b = 4.5+.315\n",
    "print(a)\n",
    "print(b)"
   ]
  },
  {
   "cell_type": "code",
   "execution_count": 17,
   "metadata": {},
   "outputs": [
    {
     "name": "stdout",
     "output_type": "stream",
     "text": [
      "27.4464\n",
      "29.753600000000002\n"
     ]
    }
   ],
   "source": [
    "t = 2.06\n",
    "me = t*2.8/5\n",
    "a = 28.6 - me\n",
    "b = 28.6 + me\n",
    "print(a)\n",
    "print(b)"
   ]
  },
  {
   "cell_type": "code",
   "execution_count": null,
   "metadata": {},
   "outputs": [],
   "source": []
  },
  {
   "cell_type": "code",
   "execution_count": null,
   "metadata": {},
   "outputs": [],
   "source": []
  },
  {
   "cell_type": "markdown",
   "metadata": {
    "id": "H5qEnExoiv0E"
   },
   "source": [
    "`Question: 1` A company wants to estimate the average time spent by customers on their website per session. They collect a random sample of 100 customers and find that the sample mean time spent is 4.5 minutes with a sample standard deviation of 1.2 minutes. Calculate a 99% confidence interval for the true population mean time spent on the website per session.\n",
    "\n",
    "\n",
    "`Question 2:` A car manufacturer is interested in estimating the mean gas mileage of their new SUV. A sample of 25 SUVs is taken, and their mean gas mileage is found to be 28.6 miles per gallon with a standard deviation of 2.8 miles per gallon. Calculate a 95% confidence interval for the true mean gas mileage of the SUV."
   ]
  },
  {
   "cell_type": "markdown",
   "metadata": {
    "id": "susAVpwsi3rx"
   },
   "source": [
    "`Question -3:` Dataset - India temperature dataset.\n",
    "\n",
    "Data link: https://drive.google.com/file/d/1whb8Rjdk9TBKOwVi8NwZD1Tc8Tdv7iEc/view?usp=share_link\n",
    "\n",
    "Kaggle Link : (Just take IND data for this question, have to apply filtering). https://www.kaggle.com/datasets/berkeleyearth/climate-change-earth-surface-temperature-data\n",
    "\n",
    "A climate research organization wants to estimate the average temperature of a certain country. They collect temperature data for 2613 days but due to certain limitations, they only have information about the average temperature for 2508 days. The organization assumes that the population follows a normal distribution and wants to estimate the population mean temperature with a 95% confidence interval.\n",
    "\n",
    "* Standard deviation is assumed as given data standard deviation. z Procedure\n",
    "* Standard deviation is not given. Apply t Procedure"
   ]
  },
  {
   "cell_type": "code",
   "execution_count": 3,
   "metadata": {},
   "outputs": [
    {
     "data": {
      "text/html": [
       "<div>\n",
       "<style scoped>\n",
       "    .dataframe tbody tr th:only-of-type {\n",
       "        vertical-align: middle;\n",
       "    }\n",
       "\n",
       "    .dataframe tbody tr th {\n",
       "        vertical-align: top;\n",
       "    }\n",
       "\n",
       "    .dataframe thead th {\n",
       "        text-align: right;\n",
       "    }\n",
       "</style>\n",
       "<table border=\"1\" class=\"dataframe\">\n",
       "  <thead>\n",
       "    <tr style=\"text-align: right;\">\n",
       "      <th></th>\n",
       "      <th>dt</th>\n",
       "      <th>AverageTemperature</th>\n",
       "      <th>AverageTemperatureUncertainty</th>\n",
       "      <th>Country</th>\n",
       "    </tr>\n",
       "  </thead>\n",
       "  <tbody>\n",
       "    <tr>\n",
       "      <th>0</th>\n",
       "      <td>1796-01-01</td>\n",
       "      <td>17.044</td>\n",
       "      <td>2.044</td>\n",
       "      <td>India</td>\n",
       "    </tr>\n",
       "    <tr>\n",
       "      <th>1</th>\n",
       "      <td>1796-02-01</td>\n",
       "      <td>19.193</td>\n",
       "      <td>1.359</td>\n",
       "      <td>India</td>\n",
       "    </tr>\n",
       "    <tr>\n",
       "      <th>2</th>\n",
       "      <td>1796-03-01</td>\n",
       "      <td>22.319</td>\n",
       "      <td>2.125</td>\n",
       "      <td>India</td>\n",
       "    </tr>\n",
       "  </tbody>\n",
       "</table>\n",
       "</div>"
      ],
      "text/plain": [
       "           dt  AverageTemperature  AverageTemperatureUncertainty Country\n",
       "0  1796-01-01              17.044                          2.044   India\n",
       "1  1796-02-01              19.193                          1.359   India\n",
       "2  1796-03-01              22.319                          2.125   India"
      ]
     },
     "execution_count": 3,
     "metadata": {},
     "output_type": "execute_result"
    }
   ],
   "source": [
    "india_temp = pd.read_csv('data/ind_temp.csv')\n",
    "india_temp.head(3)"
   ]
  },
  {
   "cell_type": "code",
   "execution_count": 4,
   "metadata": {},
   "outputs": [
    {
     "data": {
      "text/html": [
       "<div>\n",
       "<style scoped>\n",
       "    .dataframe tbody tr th:only-of-type {\n",
       "        vertical-align: middle;\n",
       "    }\n",
       "\n",
       "    .dataframe tbody tr th {\n",
       "        vertical-align: top;\n",
       "    }\n",
       "\n",
       "    .dataframe thead th {\n",
       "        text-align: right;\n",
       "    }\n",
       "</style>\n",
       "<table border=\"1\" class=\"dataframe\">\n",
       "  <thead>\n",
       "    <tr style=\"text-align: right;\">\n",
       "      <th></th>\n",
       "      <th>dt</th>\n",
       "      <th>AverageTemperature</th>\n",
       "      <th>AverageTemperatureUncertainty</th>\n",
       "      <th>Country</th>\n",
       "    </tr>\n",
       "  </thead>\n",
       "  <tbody>\n",
       "    <tr>\n",
       "      <th>2610</th>\n",
       "      <td>2013-07-01</td>\n",
       "      <td>27.012</td>\n",
       "      <td>0.197</td>\n",
       "      <td>India</td>\n",
       "    </tr>\n",
       "    <tr>\n",
       "      <th>2611</th>\n",
       "      <td>2013-08-01</td>\n",
       "      <td>26.555</td>\n",
       "      <td>0.242</td>\n",
       "      <td>India</td>\n",
       "    </tr>\n",
       "    <tr>\n",
       "      <th>2612</th>\n",
       "      <td>2013-09-01</td>\n",
       "      <td>NaN</td>\n",
       "      <td>NaN</td>\n",
       "      <td>India</td>\n",
       "    </tr>\n",
       "  </tbody>\n",
       "</table>\n",
       "</div>"
      ],
      "text/plain": [
       "              dt  AverageTemperature  AverageTemperatureUncertainty Country\n",
       "2610  2013-07-01              27.012                          0.197   India\n",
       "2611  2013-08-01              26.555                          0.242   India\n",
       "2612  2013-09-01                 NaN                            NaN   India"
      ]
     },
     "execution_count": 4,
     "metadata": {},
     "output_type": "execute_result"
    }
   ],
   "source": [
    "india_temp.tail(3)"
   ]
  },
  {
   "cell_type": "code",
   "execution_count": 5,
   "metadata": {},
   "outputs": [
    {
     "name": "stdout",
     "output_type": "stream",
     "text": [
      "<class 'pandas.core.frame.DataFrame'>\n",
      "RangeIndex: 2613 entries, 0 to 2612\n",
      "Data columns (total 4 columns):\n",
      " #   Column                         Non-Null Count  Dtype  \n",
      "---  ------                         --------------  -----  \n",
      " 0   dt                             2613 non-null   object \n",
      " 1   AverageTemperature             2508 non-null   float64\n",
      " 2   AverageTemperatureUncertainty  2508 non-null   float64\n",
      " 3   Country                        2613 non-null   object \n",
      "dtypes: float64(2), object(2)\n",
      "memory usage: 81.8+ KB\n"
     ]
    }
   ],
   "source": [
    "india_temp.info()"
   ]
  },
  {
   "cell_type": "code",
   "execution_count": null,
   "metadata": {},
   "outputs": [],
   "source": []
  },
  {
   "cell_type": "code",
   "execution_count": 6,
   "metadata": {},
   "outputs": [
    {
     "data": {
      "image/png": "[encoded data removed]",
      "text/plain": [
       "<Figure size 640x480 with 1 Axes>"
      ]
     },
     "metadata": {},
     "output_type": "display_data"
    }
   ],
   "source": [
    "sns.kdeplot(india_temp['AverageTemperature'])\n",
    "plt.show()"
   ]
  },
  {
   "cell_type": "markdown",
   "metadata": {},
   "source": [
    "Since distribution is not normal,  \n",
    "we need to make a sampling distribution so that the mean of sampling distribution follows normal distribution."
   ]
  },
  {
   "cell_type": "code",
   "execution_count": 23,
   "metadata": {},
   "outputs": [],
   "source": [
    "def take_sample(arr,size,num_samples):\n",
    "    \"\"\"\n",
    "    arr --> input array,\n",
    "    size --> size of each sample,\n",
    "    num_samples --> number of samples each of size = size to be taken\n",
    "    \n",
    "    returns list of length = num_samples and each item is a 1d array of size = size\n",
    "    \"\"\"\n",
    "    \n",
    "    sampling_dist_list = []\n",
    "    for i in range(num_samples):\n",
    "        random_samples = np.random.choice(arr,size = size, replace = False)\n",
    "        sampling_dist_list.append(random_samples)\n",
    "     \n",
    "    return sampling_dist_list"
   ]
  },
  {
   "cell_type": "code",
   "execution_count": 24,
   "metadata": {},
   "outputs": [
    {
     "name": "stdout",
     "output_type": "stream",
     "text": [
      "(200, 50)\n"
     ]
    }
   ],
   "source": [
    "sampling_dist = take_sample(india_temp['AverageTemperature'].dropna(),50,200)\n",
    "sampling_dist = np.array(sampling_dist)\n",
    "print(sampling_dist.shape)"
   ]
  },
  {
   "cell_type": "code",
   "execution_count": 25,
   "metadata": {},
   "outputs": [
    {
     "data": {
      "text/plain": [
       "<Axes: ylabel='Density'>"
      ]
     },
     "execution_count": 25,
     "metadata": {},
     "output_type": "execute_result"
    },
    {
     "data": {
      "image/png": "[encoded data removed]",
      "text/plain": [
       "<Figure size 640x480 with 1 Axes>"
      ]
     },
     "metadata": {},
     "output_type": "display_data"
    }
   ],
   "source": [
    "sns.kdeplot(sampling_dist.mean(axis = 1))"
   ]
  },
  {
   "cell_type": "markdown",
   "metadata": {},
   "source": [
    "## Z Procedure"
   ]
  },
  {
   "cell_type": "code",
   "execution_count": 16,
   "metadata": {},
   "outputs": [],
   "source": [
    "import scipy.stats as ss"
   ]
  },
  {
   "cell_type": "code",
   "execution_count": 26,
   "metadata": {},
   "outputs": [
    {
     "name": "stdout",
     "output_type": "stream",
     "text": [
      "4.33\n",
      "23.87\n"
     ]
    }
   ],
   "source": [
    "sd = np.round(india_temp['AverageTemperature'].dropna().std(),2)\n",
    "x_bar = np.round(india_temp['AverageTemperature'].dropna().mean(),2)\n",
    "print(sd)\n",
    "print(x_bar)"
   ]
  },
  {
   "cell_type": "code",
   "execution_count": 27,
   "metadata": {},
   "outputs": [],
   "source": [
    "n = india_temp['AverageTemperature'].count()"
   ]
  },
  {
   "cell_type": "code",
   "execution_count": 28,
   "metadata": {},
   "outputs": [
    {
     "data": {
      "text/plain": [
       "array([23.83342, 23.77666, 24.40974, 24.02872, 24.9568 , 24.31332,\n",
       "       23.72964, 23.29344, 23.90388, 24.19228, 22.81034, 23.7352 ,\n",
       "       23.04016, 22.52886, 22.17588, 23.51026, 24.0828 , 24.62196,\n",
       "       23.2762 , 23.83676, 24.67406, 24.01308, 24.39622, 23.96382,\n",
       "       24.0364 , 23.9681 , 24.26792, 24.9472 , 23.0033 , 22.92362,\n",
       "       23.60184, 24.652  , 23.40902, 23.33006, 23.01898, 23.49224,\n",
       "       25.03462, 24.55408, 22.40712, 23.17614, 23.15948, 25.38696,\n",
       "       24.59796, 23.8094 , 25.09156, 24.62222, 23.52272, 24.16032,\n",
       "       24.2568 , 23.4028 , 23.73524, 23.6511 , 24.01212, 23.83148,\n",
       "       24.43688, 23.72404, 24.25318, 24.3846 , 23.28246, 23.8296 ,\n",
       "       23.49998, 23.58266, 23.6124 , 23.84192, 23.34594, 23.6731 ,\n",
       "       24.34922, 24.17982, 24.21374, 24.60322, 24.16788, 23.45866,\n",
       "       23.14868, 23.75704, 23.75596, 24.38488, 23.42338, 23.9848 ,\n",
       "       24.28542, 23.287  , 23.928  , 23.29174, 23.56782, 25.24516,\n",
       "       23.87866, 23.40946, 23.55398, 23.12908, 24.30224, 24.03608,\n",
       "       22.71854, 24.72198, 23.59806, 23.5096 , 23.77668, 23.41456,\n",
       "       25.11378, 22.79954, 23.61476, 23.61042, 23.48342, 25.0863 ,\n",
       "       23.84796, 23.76956, 23.9536 , 22.79698, 24.99846, 24.14988,\n",
       "       23.43776, 23.9396 , 24.05592, 23.92028, 22.76018, 23.00678,\n",
       "       23.7216 , 25.33704, 22.55042, 23.43064, 24.23136, 23.68746,\n",
       "       23.7962 , 24.3565 , 23.93446, 24.03586, 23.4791 , 24.0794 ,\n",
       "       24.1148 , 23.8034 , 24.553  , 22.7861 , 23.49264, 23.96596,\n",
       "       24.8871 , 24.02858, 23.51046, 23.95226, 23.65482, 24.5149 ,\n",
       "       23.28514, 24.4248 , 23.99942, 23.19476, 24.01534, 24.21966,\n",
       "       23.77864, 23.64848, 25.51946, 23.90168, 23.04492, 23.6422 ,\n",
       "       23.61412, 24.20386, 23.96078, 24.11502, 22.8759 , 22.957  ,\n",
       "       23.8185 , 24.25916, 23.68222, 23.8452 , 23.49478, 23.67114,\n",
       "       22.97264, 24.70496, 24.28378, 24.06282, 24.54588, 24.45512,\n",
       "       23.50812, 22.86702, 24.43606, 24.03334, 24.686  , 23.22104,\n",
       "       24.5201 , 23.536  , 24.13994, 23.18668, 23.05246, 23.30098,\n",
       "       23.93014, 24.08218, 23.00774, 23.155  , 23.66142, 24.30018,\n",
       "       23.43698, 24.49326, 24.08088, 24.46764, 23.4965 , 24.7705 ,\n",
       "       24.49084, 24.01214, 24.24696, 24.38994, 23.13122, 24.43976,\n",
       "       24.48116, 23.89572])"
      ]
     },
     "execution_count": 28,
     "metadata": {},
     "output_type": "execute_result"
    }
   ],
   "source": [
    "sampling_dist.mean(axis=1)"
   ]
  },
  {
   "cell_type": "code",
   "execution_count": 30,
   "metadata": {},
   "outputs": [
    {
     "name": "stdout",
     "output_type": "stream",
     "text": [
      "1.96\n",
      "1.2002147661147984\n",
      "Confidence Interval for 95.0% confidence is [22.66 - 25.06]\n",
      "Actual mean temperature of population:  23.87\n"
     ]
    }
   ],
   "source": [
    "confidence = .95\n",
    "cum_prob = confidence + (1-confidence)/2\n",
    "z_crit = np.round(ss.norm.ppf(cum_prob),2)\n",
    "print(z_crit)\n",
    "\n",
    "me = z_crit*sd/np.sqrt(sampling_dist.shape[1])\n",
    "print(me)\n",
    "\n",
    "lower_limit = np.mean(sampling_dist.mean(axis = 1)) - me\n",
    "upper_limit = np.mean(sampling_dist.mean(axis = 1)) + me\n",
    "\n",
    "print('Confidence Interval for {}% confidence is [{} - {}]'\n",
    "      .format(confidence*100,np.round(lower_limit,2),np.round(upper_limit,2)))\n",
    "print('Actual mean temperature of population: ',x_bar)"
   ]
  },
  {
   "cell_type": "markdown",
   "metadata": {},
   "source": [
    "## Using T method --> population std unknown"
   ]
  },
  {
   "cell_type": "code",
   "execution_count": 33,
   "metadata": {},
   "outputs": [
    {
     "data": {
      "text/plain": [
       "4.322058033492838"
      ]
     },
     "execution_count": 33,
     "metadata": {},
     "output_type": "execute_result"
    }
   ],
   "source": [
    "sampling_dist.std(axis = 1).mean()"
   ]
  },
  {
   "cell_type": "code",
   "execution_count": 34,
   "metadata": {},
   "outputs": [
    {
     "name": "stdout",
     "output_type": "stream",
     "text": [
      "2.01\n",
      "1.2279899204798057\n",
      "Confidence Interval for 95.0% confidence is [22.63 - 25.09]\n",
      "Actual mean temperature of population:  23.87\n"
     ]
    }
   ],
   "source": [
    "# std dev of sample --> we take the mean of std of each of the 200 sets of samples\n",
    "s = np.round(np.mean(sampling_dist.std(axis = 1)),2)\n",
    "n = 50\n",
    "\n",
    "confidence = .95\n",
    "cum_prob = confidence + (1-confidence)/2\n",
    "\n",
    "t_crit = np.round(ss.t.ppf(cum_prob,n-1),2)\n",
    "print(t_crit)\n",
    "\n",
    "me = t_crit*s/np.sqrt(n)\n",
    "print(me)\n",
    "\n",
    "lower_limit = np.mean(sampling_dist.mean(axis = 1)) - me\n",
    "upper_limit = np.mean(sampling_dist.mean(axis = 1)) + me\n",
    "\n",
    "print('Confidence Interval for {}% confidence is [{} - {}]'\n",
    "      .format(confidence*100,np.round(lower_limit,2),np.round(upper_limit,2)))\n",
    "print('Actual mean temperature of population: ',x_bar)"
   ]
  },
  {
   "cell_type": "markdown",
   "metadata": {
    "id": "6jZBbFSoi88d"
   },
   "source": [
    "`Question 5:` BMW Dataset : https://drive.google.com/file/d/18amVv1WKKHEmwyvVy0RuXp4A6xrGOelc/view?usp=share_link\n",
    "\n",
    "\n",
    "\n",
    "* Task 1:\n",
    "The sales manager of a used car company wants to know what is the average selling price of all the used bmw cars.\n",
    "The analyst can collect only a sample of sales of 500 cars in the area. Since this estimate is going to be used by the company to strategize sales of his company, the sample mean should be a good approximation of all the account.\n",
    "What level of confidence is the sales manager going to be satisfied with? What +/- interval number is going to be acceptable?\n",
    "\n",
    "* Task 2:\n",
    "In addition to the price of the car, the manager also wants to now know the average mileage that the car has been driven. But the manager does not have the population standard deviation for the mileage. But the mileage data is available only from the 25 cars that they have sold so far.\n",
    "How do the analyst approach this problem to calculate 95% confidence interval, with only 25 samples?\n",
    "\n",
    "* Task 3:\n",
    "The manager is not happy with both the intervals (intervals from task 1 and 2) as the interval for the confidence is very high. The manager now asks the analyst to estimate the average price of the car (similar to task 1) but within a bound of 750 from the mean with 95% condidence level. How many sample does the analyst have to collect to arrive at this confidence interval level?\n",
    "\n",
    "* Task 4:\n",
    "Conversely, after the analyst started collecting the data, after a week he was only able to collect for 420 samples, though he needs 540 samples for Bound of 1,000, if he has to do the analysis now, what is the best interval he can acheive for 95% confidence levels?"
   ]
  },
  {
   "cell_type": "code",
   "execution_count": 35,
   "metadata": {},
   "outputs": [
    {
     "name": "stdout",
     "output_type": "stream",
     "text": [
      "<class 'pandas.core.frame.DataFrame'>\n",
      "RangeIndex: 10781 entries, 0 to 10780\n",
      "Data columns (total 9 columns):\n",
      " #   Column        Non-Null Count  Dtype  \n",
      "---  ------        --------------  -----  \n",
      " 0   model         10781 non-null  object \n",
      " 1   year          10781 non-null  int64  \n",
      " 2   price         10781 non-null  int64  \n",
      " 3   transmission  10781 non-null  object \n",
      " 4   mileage       10781 non-null  int64  \n",
      " 5   fuelType      10781 non-null  object \n",
      " 6   tax           10781 non-null  int64  \n",
      " 7   mpg           10781 non-null  float64\n",
      " 8   engineSize    10781 non-null  float64\n",
      "dtypes: float64(2), int64(4), object(3)\n",
      "memory usage: 758.2+ KB\n"
     ]
    }
   ],
   "source": [
    "bmw = pd.read_csv('data/bmw.csv')\n",
    "bmw.info()"
   ]
  },
  {
   "cell_type": "code",
   "execution_count": 36,
   "metadata": {},
   "outputs": [
    {
     "data": {
      "text/html": [
       "<div>\n",
       "<style scoped>\n",
       "    .dataframe tbody tr th:only-of-type {\n",
       "        vertical-align: middle;\n",
       "    }\n",
       "\n",
       "    .dataframe tbody tr th {\n",
       "        vertical-align: top;\n",
       "    }\n",
       "\n",
       "    .dataframe thead th {\n",
       "        text-align: right;\n",
       "    }\n",
       "</style>\n",
       "<table border=\"1\" class=\"dataframe\">\n",
       "  <thead>\n",
       "    <tr style=\"text-align: right;\">\n",
       "      <th></th>\n",
       "      <th>model</th>\n",
       "      <th>year</th>\n",
       "      <th>price</th>\n",
       "      <th>transmission</th>\n",
       "      <th>mileage</th>\n",
       "      <th>fuelType</th>\n",
       "      <th>tax</th>\n",
       "      <th>mpg</th>\n",
       "      <th>engineSize</th>\n",
       "    </tr>\n",
       "  </thead>\n",
       "  <tbody>\n",
       "    <tr>\n",
       "      <th>0</th>\n",
       "      <td>5 Series</td>\n",
       "      <td>2014</td>\n",
       "      <td>11200</td>\n",
       "      <td>Automatic</td>\n",
       "      <td>67068</td>\n",
       "      <td>Diesel</td>\n",
       "      <td>125</td>\n",
       "      <td>57.6</td>\n",
       "      <td>2.0</td>\n",
       "    </tr>\n",
       "    <tr>\n",
       "      <th>1</th>\n",
       "      <td>6 Series</td>\n",
       "      <td>2018</td>\n",
       "      <td>27000</td>\n",
       "      <td>Automatic</td>\n",
       "      <td>14827</td>\n",
       "      <td>Petrol</td>\n",
       "      <td>145</td>\n",
       "      <td>42.8</td>\n",
       "      <td>2.0</td>\n",
       "    </tr>\n",
       "    <tr>\n",
       "      <th>2</th>\n",
       "      <td>5 Series</td>\n",
       "      <td>2016</td>\n",
       "      <td>16000</td>\n",
       "      <td>Automatic</td>\n",
       "      <td>62794</td>\n",
       "      <td>Diesel</td>\n",
       "      <td>160</td>\n",
       "      <td>51.4</td>\n",
       "      <td>3.0</td>\n",
       "    </tr>\n",
       "  </tbody>\n",
       "</table>\n",
       "</div>"
      ],
      "text/plain": [
       "       model  year  price transmission  mileage fuelType  tax   mpg  \\\n",
       "0   5 Series  2014  11200    Automatic    67068   Diesel  125  57.6   \n",
       "1   6 Series  2018  27000    Automatic    14827   Petrol  145  42.8   \n",
       "2   5 Series  2016  16000    Automatic    62794   Diesel  160  51.4   \n",
       "\n",
       "   engineSize  \n",
       "0         2.0  \n",
       "1         2.0  \n",
       "2         3.0  "
      ]
     },
     "execution_count": 36,
     "metadata": {},
     "output_type": "execute_result"
    }
   ],
   "source": [
    "bmw.head(3)"
   ]
  },
  {
   "cell_type": "markdown",
   "metadata": {},
   "source": [
    "## Task 1 -->Price"
   ]
  },
  {
   "cell_type": "markdown",
   "metadata": {},
   "source": [
    "### Students T distribution"
   ]
  },
  {
   "cell_type": "markdown",
   "metadata": {},
   "source": [
    "### Since we have sample data to deal with lets use T-dist and n = 500 and 95% confidence level"
   ]
  },
  {
   "cell_type": "code",
   "execution_count": 45,
   "metadata": {},
   "outputs": [
    {
     "name": "stdout",
     "output_type": "stream",
     "text": [
      "22888.15\n",
      "11479.90098439442\n"
     ]
    }
   ],
   "source": [
    "bmw_sample = list(take_sample(bmw['price'],500,1)[0])\n",
    "bmw_sample = np.array(bmw_sample)\n",
    "\n",
    "#calculate sample mean and std dev\n",
    "bmw_sample_mean = bmw_sample.mean()\n",
    "bmw_sample_std = bmw_sample.std()\n",
    "print(bmw_sample_mean)\n",
    "print(bmw_sample_std)"
   ]
  },
  {
   "cell_type": "code",
   "execution_count": 51,
   "metadata": {},
   "outputs": [
    {
     "name": "stdout",
     "output_type": "stream",
     "text": [
      "1.96\n",
      "1006.2663669625452\n",
      "Confidence Interval for 95.0% confidence is [21881.88 - 23894.42]\n",
      "Actual mean temperature of population:  22733.408867452\n"
     ]
    }
   ],
   "source": [
    "# std dev of sample --> we take the mean of std of each of the 200 sets of samples\n",
    "s = np.round(bmw_sample_std)\n",
    "n = bmw_sample.shape[0]\n",
    "\n",
    "confidence = .95\n",
    "cum_prob = confidence + (1-confidence)/2\n",
    "\n",
    "t_crit = np.round(ss.t.ppf(cum_prob,n),2)\n",
    "print(t_crit)\n",
    "\n",
    "me = t_crit*s/np.sqrt(n)\n",
    "print(me)\n",
    "\n",
    "lower_limit = bmw_sample_mean - me\n",
    "upper_limit = bmw_sample_mean + me\n",
    "\n",
    "print('Confidence Interval for {}% confidence is [{} - {}]'\n",
    "      .format(confidence*100,np.round(lower_limit,2),np.round(upper_limit,2)))\n",
    "print('Actual mean temperature of population: ',bmw['price'].mean())"
   ]
  },
  {
   "cell_type": "markdown",
   "metadata": {},
   "source": [
    "## Task 2--> mileage"
   ]
  },
  {
   "cell_type": "code",
   "execution_count": 65,
   "metadata": {},
   "outputs": [
    {
     "name": "stdout",
     "output_type": "stream",
     "text": [
      "27799.08\n",
      "23254.041756076153\n"
     ]
    }
   ],
   "source": [
    "bmw_sample = list(take_sample(bmw['mileage'],25,1)[0])\n",
    "bmw_sample = np.array(bmw_sample)\n",
    "\n",
    "#calculate sample mean and std dev\n",
    "bmw_sample_mean = bmw_sample.mean()\n",
    "bmw_sample_std = bmw_sample.std(ddof = 1)\n",
    "print(bmw_sample_mean)\n",
    "print(bmw_sample_std)"
   ]
  },
  {
   "cell_type": "code",
   "execution_count": 66,
   "metadata": {},
   "outputs": [
    {
     "name": "stdout",
     "output_type": "stream",
     "text": [
      "0.975\n",
      "2.06\n",
      "9580.648\n",
      "Confidence Interval for 95.0% confidence is [18218.43 - 37379.73]\n",
      "Actual mean mileage of cars:  25496.986550412763\n"
     ]
    }
   ],
   "source": [
    "# std dev of sample --> we take the mean of std of each of the 200 sets of samples\n",
    "s = np.round(bmw_sample_std)\n",
    "n = bmw_sample.shape[0]\n",
    "\n",
    "confidence = .95\n",
    "cum_prob = confidence + (1-confidence)/2\n",
    "print(cum_prob)\n",
    "\n",
    "t_crit = np.round(ss.t.ppf(cum_prob,n-1),2)\n",
    "print(t_crit)\n",
    "\n",
    "me = t_crit*s/np.sqrt(n)\n",
    "print(me)\n",
    "\n",
    "lower_limit = bmw_sample_mean - me\n",
    "upper_limit = bmw_sample_mean + me\n",
    "\n",
    "print('Confidence Interval for {}% confidence is [{} - {}]'\n",
    "      .format(confidence*100,np.round(lower_limit,2),np.round(upper_limit,2)))\n",
    "print('Actual mean mileage of cars: ',bmw['mileage'].mean())"
   ]
  },
  {
   "cell_type": "code",
   "execution_count": null,
   "metadata": {},
   "outputs": [],
   "source": []
  },
  {
   "cell_type": "markdown",
   "metadata": {},
   "source": [
    "### Miscellaneos Problems"
   ]
  },
  {
   "cell_type": "code",
   "execution_count": 1,
   "metadata": {
    "id": "77c2kBzBi3Fc"
   },
   "outputs": [],
   "source": [
    "import numpy as np\n",
    "import math"
   ]
  },
  {
   "cell_type": "code",
   "execution_count": 2,
   "metadata": {},
   "outputs": [
    {
     "data": {
      "text/plain": [
       "1.7677669529663689"
      ]
     },
     "execution_count": 2,
     "metadata": {},
     "output_type": "execute_result"
    }
   ],
   "source": [
    "np.sqrt(50)/4"
   ]
  },
  {
   "cell_type": "code",
   "execution_count": 4,
   "metadata": {},
   "outputs": [
    {
     "data": {
      "text/plain": [
       "0.9232"
      ]
     },
     "execution_count": 4,
     "metadata": {},
     "output_type": "execute_result"
    }
   ],
   "source": [
    "1 - 2*(1-.9616)"
   ]
  },
  {
   "cell_type": "code",
   "execution_count": 5,
   "metadata": {},
   "outputs": [
    {
     "data": {
      "text/plain": [
       "32.666666666666664"
      ]
     },
     "execution_count": 5,
     "metadata": {},
     "output_type": "execute_result"
    }
   ],
   "source": [
    "1.96*100/6"
   ]
  },
  {
   "cell_type": "code",
   "execution_count": 6,
   "metadata": {},
   "outputs": [
    {
     "data": {
      "text/plain": [
       "2012.6"
      ]
     },
     "execution_count": 6,
     "metadata": {},
     "output_type": "execute_result"
    }
   ],
   "source": [
    "1980+32.6"
   ]
  },
  {
   "cell_type": "code",
   "execution_count": 7,
   "metadata": {},
   "outputs": [
    {
     "data": {
      "text/plain": [
       "1947.4"
      ]
     },
     "execution_count": 7,
     "metadata": {},
     "output_type": "execute_result"
    }
   ],
   "source": [
    "1980-32.6"
   ]
  },
  {
   "cell_type": "code",
   "execution_count": 8,
   "metadata": {},
   "outputs": [],
   "source": [
    "def only_x_defective(n,x,p):\n",
    "    return math.comb(n,x)*math.pow(p,x)*math.pow(1-p,n-x)"
   ]
  },
  {
   "cell_type": "code",
   "execution_count": 12,
   "metadata": {},
   "outputs": [
    {
     "name": "stdout",
     "output_type": "stream",
     "text": [
      "0.1279604786203825\n"
     ]
    }
   ],
   "source": [
    "n = 100\n",
    "p=.05\n",
    "\n",
    "sum = 0\n",
    "for i in range(8):\n",
    "    sum+=only_x_defective(n,i,p)\n",
    "    \n",
    "print(1-sum)    "
   ]
  },
  {
   "cell_type": "code",
   "execution_count": null,
   "metadata": {},
   "outputs": [],
   "source": [
    "1-"
   ]
  }
 ],
 "metadata": {
  "colab": {
   "provenance": []
  },
  "kernelspec": {
   "display_name": "Python 3 (ipykernel)",
   "language": "python",
   "name": "python3"
  },
  "language_info": {
   "codemirror_mode": {
    "name": "ipython",
    "version": 3
   },
   "file_extension": ".py",
   "mimetype": "text/x-python",
   "name": "python",
   "nbconvert_exporter": "python",
   "pygments_lexer": "ipython3",
   "version": "3.11.4"
  }
 },
 "nbformat": 4,
 "nbformat_minor": 1
}
